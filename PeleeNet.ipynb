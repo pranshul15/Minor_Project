{
 "cells": [
  {
   "cell_type": "code",
   "execution_count": 1,
   "metadata": {},
   "outputs": [
    {
     "name": "stdout",
     "output_type": "stream",
     "text": [
      "WARNING:tensorflow:From c:\\Users\\prans\\AppData\\Local\\Programs\\Python\\Python311\\Lib\\site-packages\\keras\\src\\losses.py:2976: The name tf.losses.sparse_softmax_cross_entropy is deprecated. Please use tf.compat.v1.losses.sparse_softmax_cross_entropy instead.\n",
      "\n"
     ]
    }
   ],
   "source": [
    "import tensorflow as tf\n",
    "from keras.layers import Conv2D, BatchNormalization, ReLU, Concatenate, AveragePooling2D, MaxPooling2D, GlobalAveragePooling2D, Dense\n",
    "from keras.models import Model\n",
    "from keras import layers\n",
    "\n",
    "def stem_block(inputs):\n",
    "    x = Conv2D(32, (3, 3), strides=2, padding='same')(inputs)\n",
    "    x = BatchNormalization()(x)\n",
    "    x = ReLU()(x)\n",
    "\n",
    "    branch1 = Conv2D(16, (1, 1), padding='same')(x)\n",
    "    branch1 = BatchNormalization()(branch1)\n",
    "    branch1 = ReLU()(branch1)\n",
    "    branch1 = Conv2D(32, (3, 3), strides=2, padding='same')(branch1)\n",
    "\n",
    "    branch2 = MaxPooling2D((2, 2), strides=2, padding='same')(x)\n",
    "\n",
    "    x = Concatenate()([branch1, branch2])\n",
    "    x = BatchNormalization()(x)\n",
    "    x = ReLU()(x)\n",
    "    return x\n",
    "\n",
    "def dense_block(inputs, num_layers, growth_rate, bottleneck_width):\n",
    "    x = inputs\n",
    "    growth_rate = int(growth_rate / 2)\n",
    "    inter_channel = int(growth_rate * bottleneck_width / 4) * 4\n",
    "\n",
    "    for i in range(num_layers):\n",
    "        branch1 = Conv2D(inter_channel, (1, 1), padding='same')(x)\n",
    "        branch1 = BatchNormalization()(branch1)\n",
    "        branch1 = ReLU()(branch1)\n",
    "        branch1 = Conv2D(growth_rate, (3, 3), padding='same')(branch1)\n",
    "\n",
    "        branch2 = Conv2D(inter_channel, (1, 1), padding='same')(x)\n",
    "        branch2 = BatchNormalization()(branch2)\n",
    "        branch2 = ReLU()(branch2)\n",
    "        branch2 = Conv2D(growth_rate, (3, 3), padding='same')(branch2)\n",
    "\n",
    "        x = Concatenate()([x, branch1, branch2])\n",
    "\n",
    "    return x\n",
    "\n",
    "def transition_block(inputs, reduction):\n",
    "    x = Conv2D(int(tf.keras.backend.int_shape(inputs)[-1] * reduction), (1, 1), padding='same')(inputs)\n",
    "    x = BatchNormalization()(x)\n",
    "    x = ReLU()(x)\n",
    "    x = AveragePooling2D((2, 2), strides=2)(x)\n",
    "    return x\n"
   ]
  },
  {
   "cell_type": "code",
   "execution_count": 2,
   "metadata": {},
   "outputs": [],
   "source": [
    "def PeleeNet(input_shape=(224, 224, 3), classes=2):\n",
    "    inputs = tf.keras.Input(shape=input_shape)\n",
    "\n",
    "    x = stem_block(inputs)\n",
    "\n",
    "    x = dense_block(x, 10, 32, 1)\n",
    "    x = transition_block(x, 0.8)\n",
    "\n",
    "    x = dense_block(x, 16, 32, 2)\n",
    "    x = transition_block(x, 0.8)\n",
    "\n",
    "    x = dense_block(x, 16, 32, 4)\n",
    "    x = transition_block(x, 0.8)\n",
    "\n",
    "    x = dense_block(x, 16, 32, 4)\n",
    "\n",
    "    x = GlobalAveragePooling2D()(x)\n",
    "    outputs = Dense(classes, activation='softmax')(x)\n",
    "\n",
    "    model = Model(inputs, outputs)\n",
    "    return model"
   ]
  },
  {
   "cell_type": "code",
   "execution_count": 7,
   "metadata": {},
   "outputs": [
    {
     "name": "stdout",
     "output_type": "stream",
     "text": [
      "Found 2149 images belonging to 2 classes.\n",
      "Found 272 images belonging to 2 classes.\n",
      "Found 268 images belonging to 2 classes.\n"
     ]
    }
   ],
   "source": [
    "from keras.preprocessing.image import ImageDataGenerator\n",
    "\n",
    "# Define paths to your dataset\n",
    "train_data_dir = './train/'\n",
    "test_data_dir = './test/'\n",
    "val_data_dir = './val/'\n",
    "\n",
    "# Set parameters\n",
    "img_width, img_height = 224, 224\n",
    "batch_size = 64\n",
    "epochs = 15\n",
    "\n",
    "# Create data generators\n",
    "train_datagen = ImageDataGenerator(rescale=1./255, shear_range=0.2, zoom_range=0.2, horizontal_flip=True)\n",
    "test_datagen = ImageDataGenerator(rescale=1./255)\n",
    "val_datagen = ImageDataGenerator(rescale=1./255)\n",
    "\n",
    "train_generator = train_datagen.flow_from_directory(\n",
    "    train_data_dir,\n",
    "    target_size=(img_width, img_height),\n",
    "    batch_size=batch_size,\n",
    "    class_mode='binary'  # assuming binary classification (drowsy and non-drowsy)\n",
    ")\n",
    "\n",
    "test_generator = test_datagen.flow_from_directory(\n",
    "    test_data_dir,\n",
    "    target_size=(img_width, img_height),\n",
    "    batch_size=batch_size,\n",
    "    class_mode='binary'\n",
    ")\n",
    "\n",
    "val_generator = val_datagen.flow_from_directory(\n",
    "    val_data_dir,\n",
    "    target_size=(img_width, img_height),\n",
    "    batch_size=batch_size,\n",
    "    class_mode='binary'\n",
    ")"
   ]
  },
  {
   "cell_type": "code",
   "execution_count": null,
   "metadata": {},
   "outputs": [],
   "source": [
    "model = PeleeNet(input_shape=(224, 224, 3), classes=1)\n",
    "model.compile(optimizer='adam', loss='binary_crossentropy', metrics=['accuracy'])\n",
    "\n",
    "# Train the model with your data\n",
    "history = model.fit(train_generator, epochs=10, validation_data=val_generator)"
   ]
  },
  {
   "cell_type": "code",
   "execution_count": null,
   "metadata": {},
   "outputs": [],
   "source": [
    "model.save('PeleeNet.h5')"
   ]
  },
  {
   "cell_type": "code",
   "execution_count": null,
   "metadata": {},
   "outputs": [],
   "source": [
    "import matplotlib.pyplot as plt\n",
    "\n",
    "# Plot training & validation accuracy values\n",
    "plt.plot(history.history['accuracy'])\n",
    "plt.plot(history.history['val_accuracy'])\n",
    "plt.title('Model accuracy')\n",
    "plt.ylabel('Accuracy')\n",
    "plt.xlabel('Epoch')\n",
    "plt.legend(['Train', 'Validation'], loc='upper left')\n",
    "plt.show()\n",
    "\n",
    "# Plot training & validation loss values\n",
    "plt.plot(history.history['loss'])\n",
    "plt.plot(history.history['val_loss'])\n",
    "plt.title('Model loss')\n",
    "plt.ylabel('Loss')\n",
    "plt.xlabel('Epoch')\n",
    "plt.legend(['Train', 'Validation'], loc='upper left')\n",
    "plt.show()"
   ]
  }
 ],
 "metadata": {
  "kernelspec": {
   "display_name": "Python 3",
   "language": "python",
   "name": "python3"
  },
  "language_info": {
   "codemirror_mode": {
    "name": "ipython",
    "version": 3
   },
   "file_extension": ".py",
   "mimetype": "text/x-python",
   "name": "python",
   "nbconvert_exporter": "python",
   "pygments_lexer": "ipython3",
   "version": "3.11.6"
  }
 },
 "nbformat": 4,
 "nbformat_minor": 2
}
